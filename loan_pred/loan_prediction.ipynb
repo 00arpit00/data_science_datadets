{
 "cells": [
  {
   "cell_type": "code",
   "execution_count": 1,
   "metadata": {
    "collapsed": true
   },
   "outputs": [],
   "source": [
    "import pandas as pd\n",
    "import numpy as np\n",
    "import matplotlib.pyplot as plt\n",
    "import seaborn as sns\n",
    "%matplotlib inline"
   ]
  },
  {
   "cell_type": "code",
   "execution_count": 166,
   "metadata": {
    "collapsed": true
   },
   "outputs": [],
   "source": [
    "train = pd.read_csv('train.csv')\n",
    "test = pd.read_csv('test.csv')"
   ]
  },
  {
   "cell_type": "code",
   "execution_count": 167,
   "metadata": {},
   "outputs": [
    {
     "data": {
      "text/html": [
       "<div>\n",
       "<style>\n",
       "    .dataframe thead tr:only-child th {\n",
       "        text-align: right;\n",
       "    }\n",
       "\n",
       "    .dataframe thead th {\n",
       "        text-align: left;\n",
       "    }\n",
       "\n",
       "    .dataframe tbody tr th {\n",
       "        vertical-align: top;\n",
       "    }\n",
       "</style>\n",
       "<table border=\"1\" class=\"dataframe\">\n",
       "  <thead>\n",
       "    <tr style=\"text-align: right;\">\n",
       "      <th></th>\n",
       "      <th>Loan_ID</th>\n",
       "      <th>Gender</th>\n",
       "      <th>Married</th>\n",
       "      <th>Dependents</th>\n",
       "      <th>Education</th>\n",
       "      <th>Self_Employed</th>\n",
       "      <th>ApplicantIncome</th>\n",
       "      <th>CoapplicantIncome</th>\n",
       "      <th>LoanAmount</th>\n",
       "      <th>Loan_Amount_Term</th>\n",
       "      <th>Credit_History</th>\n",
       "      <th>Property_Area</th>\n",
       "      <th>Loan_Status</th>\n",
       "    </tr>\n",
       "  </thead>\n",
       "  <tbody>\n",
       "    <tr>\n",
       "      <th>0</th>\n",
       "      <td>LP001002</td>\n",
       "      <td>Male</td>\n",
       "      <td>No</td>\n",
       "      <td>0</td>\n",
       "      <td>Graduate</td>\n",
       "      <td>No</td>\n",
       "      <td>5849</td>\n",
       "      <td>0.0</td>\n",
       "      <td>NaN</td>\n",
       "      <td>360.0</td>\n",
       "      <td>1.0</td>\n",
       "      <td>Urban</td>\n",
       "      <td>Y</td>\n",
       "    </tr>\n",
       "    <tr>\n",
       "      <th>1</th>\n",
       "      <td>LP001003</td>\n",
       "      <td>Male</td>\n",
       "      <td>Yes</td>\n",
       "      <td>1</td>\n",
       "      <td>Graduate</td>\n",
       "      <td>No</td>\n",
       "      <td>4583</td>\n",
       "      <td>1508.0</td>\n",
       "      <td>128.0</td>\n",
       "      <td>360.0</td>\n",
       "      <td>1.0</td>\n",
       "      <td>Rural</td>\n",
       "      <td>N</td>\n",
       "    </tr>\n",
       "    <tr>\n",
       "      <th>2</th>\n",
       "      <td>LP001005</td>\n",
       "      <td>Male</td>\n",
       "      <td>Yes</td>\n",
       "      <td>0</td>\n",
       "      <td>Graduate</td>\n",
       "      <td>Yes</td>\n",
       "      <td>3000</td>\n",
       "      <td>0.0</td>\n",
       "      <td>66.0</td>\n",
       "      <td>360.0</td>\n",
       "      <td>1.0</td>\n",
       "      <td>Urban</td>\n",
       "      <td>Y</td>\n",
       "    </tr>\n",
       "    <tr>\n",
       "      <th>3</th>\n",
       "      <td>LP001006</td>\n",
       "      <td>Male</td>\n",
       "      <td>Yes</td>\n",
       "      <td>0</td>\n",
       "      <td>Not Graduate</td>\n",
       "      <td>No</td>\n",
       "      <td>2583</td>\n",
       "      <td>2358.0</td>\n",
       "      <td>120.0</td>\n",
       "      <td>360.0</td>\n",
       "      <td>1.0</td>\n",
       "      <td>Urban</td>\n",
       "      <td>Y</td>\n",
       "    </tr>\n",
       "    <tr>\n",
       "      <th>4</th>\n",
       "      <td>LP001008</td>\n",
       "      <td>Male</td>\n",
       "      <td>No</td>\n",
       "      <td>0</td>\n",
       "      <td>Graduate</td>\n",
       "      <td>No</td>\n",
       "      <td>6000</td>\n",
       "      <td>0.0</td>\n",
       "      <td>141.0</td>\n",
       "      <td>360.0</td>\n",
       "      <td>1.0</td>\n",
       "      <td>Urban</td>\n",
       "      <td>Y</td>\n",
       "    </tr>\n",
       "  </tbody>\n",
       "</table>\n",
       "</div>"
      ],
      "text/plain": [
       "    Loan_ID Gender Married Dependents     Education Self_Employed  \\\n",
       "0  LP001002   Male      No          0      Graduate            No   \n",
       "1  LP001003   Male     Yes          1      Graduate            No   \n",
       "2  LP001005   Male     Yes          0      Graduate           Yes   \n",
       "3  LP001006   Male     Yes          0  Not Graduate            No   \n",
       "4  LP001008   Male      No          0      Graduate            No   \n",
       "\n",
       "   ApplicantIncome  CoapplicantIncome  LoanAmount  Loan_Amount_Term  \\\n",
       "0             5849                0.0         NaN             360.0   \n",
       "1             4583             1508.0       128.0             360.0   \n",
       "2             3000                0.0        66.0             360.0   \n",
       "3             2583             2358.0       120.0             360.0   \n",
       "4             6000                0.0       141.0             360.0   \n",
       "\n",
       "   Credit_History Property_Area Loan_Status  \n",
       "0             1.0         Urban           Y  \n",
       "1             1.0         Rural           N  \n",
       "2             1.0         Urban           Y  \n",
       "3             1.0         Urban           Y  \n",
       "4             1.0         Urban           Y  "
      ]
     },
     "execution_count": 167,
     "metadata": {},
     "output_type": "execute_result"
    }
   ],
   "source": [
    "train.head()"
   ]
  },
  {
   "cell_type": "code",
   "execution_count": 168,
   "metadata": {},
   "outputs": [
    {
     "data": {
      "text/html": [
       "<div>\n",
       "<style>\n",
       "    .dataframe thead tr:only-child th {\n",
       "        text-align: right;\n",
       "    }\n",
       "\n",
       "    .dataframe thead th {\n",
       "        text-align: left;\n",
       "    }\n",
       "\n",
       "    .dataframe tbody tr th {\n",
       "        vertical-align: top;\n",
       "    }\n",
       "</style>\n",
       "<table border=\"1\" class=\"dataframe\">\n",
       "  <thead>\n",
       "    <tr style=\"text-align: right;\">\n",
       "      <th></th>\n",
       "      <th>ApplicantIncome</th>\n",
       "      <th>CoapplicantIncome</th>\n",
       "      <th>LoanAmount</th>\n",
       "      <th>Loan_Amount_Term</th>\n",
       "      <th>Credit_History</th>\n",
       "    </tr>\n",
       "  </thead>\n",
       "  <tbody>\n",
       "    <tr>\n",
       "      <th>count</th>\n",
       "      <td>614.000000</td>\n",
       "      <td>614.000000</td>\n",
       "      <td>592.000000</td>\n",
       "      <td>600.00000</td>\n",
       "      <td>564.000000</td>\n",
       "    </tr>\n",
       "    <tr>\n",
       "      <th>mean</th>\n",
       "      <td>5403.459283</td>\n",
       "      <td>1621.245798</td>\n",
       "      <td>146.412162</td>\n",
       "      <td>342.00000</td>\n",
       "      <td>0.842199</td>\n",
       "    </tr>\n",
       "    <tr>\n",
       "      <th>std</th>\n",
       "      <td>6109.041673</td>\n",
       "      <td>2926.248369</td>\n",
       "      <td>85.587325</td>\n",
       "      <td>65.12041</td>\n",
       "      <td>0.364878</td>\n",
       "    </tr>\n",
       "    <tr>\n",
       "      <th>min</th>\n",
       "      <td>150.000000</td>\n",
       "      <td>0.000000</td>\n",
       "      <td>9.000000</td>\n",
       "      <td>12.00000</td>\n",
       "      <td>0.000000</td>\n",
       "    </tr>\n",
       "    <tr>\n",
       "      <th>25%</th>\n",
       "      <td>2877.500000</td>\n",
       "      <td>0.000000</td>\n",
       "      <td>100.000000</td>\n",
       "      <td>360.00000</td>\n",
       "      <td>1.000000</td>\n",
       "    </tr>\n",
       "    <tr>\n",
       "      <th>50%</th>\n",
       "      <td>3812.500000</td>\n",
       "      <td>1188.500000</td>\n",
       "      <td>128.000000</td>\n",
       "      <td>360.00000</td>\n",
       "      <td>1.000000</td>\n",
       "    </tr>\n",
       "    <tr>\n",
       "      <th>75%</th>\n",
       "      <td>5795.000000</td>\n",
       "      <td>2297.250000</td>\n",
       "      <td>168.000000</td>\n",
       "      <td>360.00000</td>\n",
       "      <td>1.000000</td>\n",
       "    </tr>\n",
       "    <tr>\n",
       "      <th>max</th>\n",
       "      <td>81000.000000</td>\n",
       "      <td>41667.000000</td>\n",
       "      <td>700.000000</td>\n",
       "      <td>480.00000</td>\n",
       "      <td>1.000000</td>\n",
       "    </tr>\n",
       "  </tbody>\n",
       "</table>\n",
       "</div>"
      ],
      "text/plain": [
       "       ApplicantIncome  CoapplicantIncome  LoanAmount  Loan_Amount_Term  \\\n",
       "count       614.000000         614.000000  592.000000         600.00000   \n",
       "mean       5403.459283        1621.245798  146.412162         342.00000   \n",
       "std        6109.041673        2926.248369   85.587325          65.12041   \n",
       "min         150.000000           0.000000    9.000000          12.00000   \n",
       "25%        2877.500000           0.000000  100.000000         360.00000   \n",
       "50%        3812.500000        1188.500000  128.000000         360.00000   \n",
       "75%        5795.000000        2297.250000  168.000000         360.00000   \n",
       "max       81000.000000       41667.000000  700.000000         480.00000   \n",
       "\n",
       "       Credit_History  \n",
       "count      564.000000  \n",
       "mean         0.842199  \n",
       "std          0.364878  \n",
       "min          0.000000  \n",
       "25%          1.000000  \n",
       "50%          1.000000  \n",
       "75%          1.000000  \n",
       "max          1.000000  "
      ]
     },
     "execution_count": 168,
     "metadata": {},
     "output_type": "execute_result"
    }
   ],
   "source": [
    "train.describe()"
   ]
  },
  {
   "cell_type": "code",
   "execution_count": 169,
   "metadata": {
    "collapsed": true
   },
   "outputs": [],
   "source": [
    "features = ['Gender','Married','Education','Self_Employed','Property_Area','Loan_Status']"
   ]
  },
  {
   "cell_type": "code",
   "execution_count": 170,
   "metadata": {
    "collapsed": true
   },
   "outputs": [],
   "source": [
    "from sklearn.preprocessing import LabelEncoder"
   ]
  },
  {
   "cell_type": "code",
   "execution_count": 171,
   "metadata": {
    "collapsed": true
   },
   "outputs": [],
   "source": [
    "def encode(dataset,feature):\n",
    "    lr = LabelEncoder()\n",
    "    return lr.fit(dataset[feature]).transform(dataset[feature])"
   ]
  },
  {
   "cell_type": "code",
   "execution_count": 172,
   "metadata": {
    "collapsed": true
   },
   "outputs": [],
   "source": [
    "train.Gender.unique()\n",
    "train.Gender.value_counts()\n",
    "train.Gender.fillna('Male',inplace=True)\n",
    "test.Gender.fillna('Male',inplace=True)\n",
    "train.Gender = encode(train,'Gender')\n",
    "test.Gender = encode(test,'Gender')"
   ]
  },
  {
   "cell_type": "code",
   "execution_count": 173,
   "metadata": {
    "collapsed": true
   },
   "outputs": [],
   "source": [
    "train.Married.unique()\n",
    "train.Married.value_counts()\n",
    "train.Married.fillna('Yes',inplace=True)\n",
    "test.Married.fillna('Yes',inplace=True)\n",
    "train.Married = encode(train,'Married')\n",
    "test.Married = encode(test,'Married')"
   ]
  },
  {
   "cell_type": "code",
   "execution_count": 174,
   "metadata": {
    "collapsed": true
   },
   "outputs": [],
   "source": [
    "train.Dependents.value_counts()\n",
    "train.Dependents.fillna('0',inplace=True)\n",
    "train.Dependents = encode(train,'Dependents')\n",
    "test.Dependents.fillna('0',inplace=True)\n",
    "test.Dependents = encode(test,'Dependents')"
   ]
  },
  {
   "cell_type": "code",
   "execution_count": 175,
   "metadata": {
    "collapsed": true
   },
   "outputs": [],
   "source": [
    "train.Education.unique()\n",
    "train.Education = encode(train,'Education')\n",
    "train.Education = 1-train.Education\n",
    "test.Education = encode(test,'Education')\n",
    "test.Education = 1-test.Education"
   ]
  },
  {
   "cell_type": "code",
   "execution_count": 176,
   "metadata": {
    "collapsed": true
   },
   "outputs": [],
   "source": [
    "train.Self_Employed.unique()\n",
    "train.Self_Employed.value_counts()\n",
    "train.Self_Employed.fillna('No',inplace=True)\n",
    "train.Self_Employed = encode(train,'Self_Employed')\n",
    "test.Self_Employed.fillna('No',inplace=True)\n",
    "test.Self_Employed = encode(test,'Self_Employed')"
   ]
  },
  {
   "cell_type": "code",
   "execution_count": 177,
   "metadata": {},
   "outputs": [
    {
     "data": {
      "text/plain": [
       "array([[<matplotlib.axes._subplots.AxesSubplot object at 0x7fef2e2a5470>]], dtype=object)"
      ]
     },
     "execution_count": 177,
     "metadata": {},
     "output_type": "execute_result"
    },
    {
     "data": {
      "image/png": "[encoded data removed]",
      "text/plain": [
       "<matplotlib.figure.Figure at 0x7fef2e4c7128>"
      ]
     },
     "metadata": {},
     "output_type": "display_data"
    }
   ],
   "source": [
    "train.hist('LoanAmount',bins=7)"
   ]
  },
  {
   "cell_type": "code",
   "execution_count": 178,
   "metadata": {
    "collapsed": true
   },
   "outputs": [],
   "source": [
    "train.LoanAmount.fillna(np.mean(train.LoanAmount),inplace=True)\n",
    "test.LoanAmount.fillna(np.mean(test.LoanAmount),inplace=True)"
   ]
  },
  {
   "cell_type": "code",
   "execution_count": 179,
   "metadata": {},
   "outputs": [
    {
     "data": {
      "text/plain": [
       "array([[<matplotlib.axes._subplots.AxesSubplot object at 0x7fef2e29e208>]], dtype=object)"
      ]
     },
     "execution_count": 179,
     "metadata": {},
     "output_type": "execute_result"
    },
    {
     "data": {
      "image/png": "[encoded data removed]",
      "text/plain": [
       "<matplotlib.figure.Figure at 0x7fef2e206518>"
      ]
     },
     "metadata": {},
     "output_type": "display_data"
    }
   ],
   "source": [
    "train.hist('LoanAmount',bins=7)"
   ]
  },
  {
   "cell_type": "code",
   "execution_count": 180,
   "metadata": {
    "collapsed": true
   },
   "outputs": [],
   "source": [
    "train.Loan_Amount_Term.unique()\n",
    "train.Loan_Amount_Term.value_counts()\n",
    "train.Loan_Amount_Term.fillna(np.mean(train.Loan_Amount_Term),inplace=True)\n",
    "test.Loan_Amount_Term.fillna(np.mean(test.Loan_Amount_Term),inplace=True)"
   ]
  },
  {
   "cell_type": "code",
   "execution_count": 181,
   "metadata": {
    "collapsed": true
   },
   "outputs": [],
   "source": [
    "train.Credit_History.value_counts()\n",
    "train.Credit_History.fillna(1.0,inplace=True)\n",
    "test.Credit_History.fillna(1.0,inplace=True)"
   ]
  },
  {
   "cell_type": "code",
   "execution_count": 182,
   "metadata": {},
   "outputs": [],
   "source": [
    "train.Property_Area.unique()\n",
    "prop = pd.get_dummies(train.Property_Area,prefix = 'Property')\n",
    "train = pd.concat([train,prop],axis=1)\n"
   ]
  },
  {
   "cell_type": "code",
   "execution_count": 183,
   "metadata": {
    "collapsed": true
   },
   "outputs": [],
   "source": [
    "prop1 = pd.get_dummies(test.Property_Area,prefix = 'Property')\n",
    "test = pd.concat([test,prop1],axis=1)"
   ]
  },
  {
   "cell_type": "code",
   "execution_count": 184,
   "metadata": {},
   "outputs": [],
   "source": [
    "train.Loan_Status.unique()\n",
    "train.Loan_Status = encode(train,'Loan_Status')"
   ]
  },
  {
   "cell_type": "code",
   "execution_count": 185,
   "metadata": {},
   "outputs": [],
   "source": [
    "train.drop(['Loan_ID','Property_Area'],axis=1,inplace=True)\n",
    "t = test['Loan_ID']"
   ]
  },
  {
   "cell_type": "code",
   "execution_count": 186,
   "metadata": {
    "collapsed": true
   },
   "outputs": [],
   "source": [
    "test.drop(['Loan_ID','Property_Area'],axis=1,inplace=True)"
   ]
  },
  {
   "cell_type": "code",
   "execution_count": 187,
   "metadata": {},
   "outputs": [
    {
     "data": {
      "text/html": [
       "<div>\n",
       "<style>\n",
       "    .dataframe thead tr:only-child th {\n",
       "        text-align: right;\n",
       "    }\n",
       "\n",
       "    .dataframe thead th {\n",
       "        text-align: left;\n",
       "    }\n",
       "\n",
       "    .dataframe tbody tr th {\n",
       "        vertical-align: top;\n",
       "    }\n",
       "</style>\n",
       "<table border=\"1\" class=\"dataframe\">\n",
       "  <thead>\n",
       "    <tr style=\"text-align: right;\">\n",
       "      <th></th>\n",
       "      <th>Gender</th>\n",
       "      <th>Married</th>\n",
       "      <th>Dependents</th>\n",
       "      <th>Education</th>\n",
       "      <th>Self_Employed</th>\n",
       "      <th>ApplicantIncome</th>\n",
       "      <th>CoapplicantIncome</th>\n",
       "      <th>LoanAmount</th>\n",
       "      <th>Loan_Amount_Term</th>\n",
       "      <th>Credit_History</th>\n",
       "      <th>Property_Rural</th>\n",
       "      <th>Property_Semiurban</th>\n",
       "      <th>Property_Urban</th>\n",
       "    </tr>\n",
       "  </thead>\n",
       "  <tbody>\n",
       "    <tr>\n",
       "      <th>0</th>\n",
       "      <td>1</td>\n",
       "      <td>1</td>\n",
       "      <td>0</td>\n",
       "      <td>1</td>\n",
       "      <td>0</td>\n",
       "      <td>5720</td>\n",
       "      <td>0</td>\n",
       "      <td>110.0</td>\n",
       "      <td>360.0</td>\n",
       "      <td>1.0</td>\n",
       "      <td>0</td>\n",
       "      <td>0</td>\n",
       "      <td>1</td>\n",
       "    </tr>\n",
       "    <tr>\n",
       "      <th>1</th>\n",
       "      <td>1</td>\n",
       "      <td>1</td>\n",
       "      <td>1</td>\n",
       "      <td>1</td>\n",
       "      <td>0</td>\n",
       "      <td>3076</td>\n",
       "      <td>1500</td>\n",
       "      <td>126.0</td>\n",
       "      <td>360.0</td>\n",
       "      <td>1.0</td>\n",
       "      <td>0</td>\n",
       "      <td>0</td>\n",
       "      <td>1</td>\n",
       "    </tr>\n",
       "    <tr>\n",
       "      <th>2</th>\n",
       "      <td>1</td>\n",
       "      <td>1</td>\n",
       "      <td>2</td>\n",
       "      <td>1</td>\n",
       "      <td>0</td>\n",
       "      <td>5000</td>\n",
       "      <td>1800</td>\n",
       "      <td>208.0</td>\n",
       "      <td>360.0</td>\n",
       "      <td>1.0</td>\n",
       "      <td>0</td>\n",
       "      <td>0</td>\n",
       "      <td>1</td>\n",
       "    </tr>\n",
       "    <tr>\n",
       "      <th>3</th>\n",
       "      <td>1</td>\n",
       "      <td>1</td>\n",
       "      <td>2</td>\n",
       "      <td>1</td>\n",
       "      <td>0</td>\n",
       "      <td>2340</td>\n",
       "      <td>2546</td>\n",
       "      <td>100.0</td>\n",
       "      <td>360.0</td>\n",
       "      <td>1.0</td>\n",
       "      <td>0</td>\n",
       "      <td>0</td>\n",
       "      <td>1</td>\n",
       "    </tr>\n",
       "    <tr>\n",
       "      <th>4</th>\n",
       "      <td>1</td>\n",
       "      <td>0</td>\n",
       "      <td>0</td>\n",
       "      <td>0</td>\n",
       "      <td>0</td>\n",
       "      <td>3276</td>\n",
       "      <td>0</td>\n",
       "      <td>78.0</td>\n",
       "      <td>360.0</td>\n",
       "      <td>1.0</td>\n",
       "      <td>0</td>\n",
       "      <td>0</td>\n",
       "      <td>1</td>\n",
       "    </tr>\n",
       "  </tbody>\n",
       "</table>\n",
       "</div>"
      ],
      "text/plain": [
       "   Gender  Married  Dependents  Education  Self_Employed  ApplicantIncome  \\\n",
       "0       1        1           0          1              0             5720   \n",
       "1       1        1           1          1              0             3076   \n",
       "2       1        1           2          1              0             5000   \n",
       "3       1        1           2          1              0             2340   \n",
       "4       1        0           0          0              0             3276   \n",
       "\n",
       "   CoapplicantIncome  LoanAmount  Loan_Amount_Term  Credit_History  \\\n",
       "0                  0       110.0             360.0             1.0   \n",
       "1               1500       126.0             360.0             1.0   \n",
       "2               1800       208.0             360.0             1.0   \n",
       "3               2546       100.0             360.0             1.0   \n",
       "4                  0        78.0             360.0             1.0   \n",
       "\n",
       "   Property_Rural  Property_Semiurban  Property_Urban  \n",
       "0               0                   0               1  \n",
       "1               0                   0               1  \n",
       "2               0                   0               1  \n",
       "3               0                   0               1  \n",
       "4               0                   0               1  "
      ]
     },
     "execution_count": 187,
     "metadata": {},
     "output_type": "execute_result"
    }
   ],
   "source": [
    "test.head()"
   ]
  },
  {
   "cell_type": "code",
   "execution_count": 188,
   "metadata": {},
   "outputs": [],
   "source": [
    "from sklearn.tree import DecisionTreeClassifier\n",
    "from sklearn.ensemble import GradientBoostingClassifier\n",
    "from sklearn.ensemble import RandomForestClassifier\n",
    "from sklearn.cross_validation import train_test_split\n",
    "y = train.Loan_Status\n",
    "X = train.drop(['Loan_Status'],axis=1)"
   ]
  },
  {
   "cell_type": "code",
   "execution_count": 189,
   "metadata": {
    "collapsed": true
   },
   "outputs": [],
   "source": [
    "X_train,X_test,y_train,y_test = train_test_split(X,y,test_size=.3,random_state=0)"
   ]
  },
  {
   "cell_type": "code",
   "execution_count": 190,
   "metadata": {},
   "outputs": [
    {
     "name": "stdout",
     "output_type": "stream",
     "text": [
      "Training Accuracy = 0.8205128205128205\n",
      "Testing Accuracy = 0.8162162162162162\n"
     ]
    }
   ],
   "source": [
    "clf1 = DecisionTreeClassifier(max_depth=5,max_leaf_nodes=10)\n",
    "clf1.fit(X_train,y_train)\n",
    "print(\"Training Accuracy = {}\".format(clf1.score(X_train,y_train)))\n",
    "print('Testing Accuracy = {}'.format(clf1.score(X_test,y_test)))"
   ]
  },
  {
   "cell_type": "code",
   "execution_count": 191,
   "metadata": {},
   "outputs": [
    {
     "name": "stderr",
     "output_type": "stream",
     "text": [
      "/home/arpit/virtual_env_/allenv3/lib/python3.5/site-packages/sklearn/tree/export.py:386: DeprecationWarning: out_file can be set to None starting from 0.18. This will be the default in 0.20.\n",
      "  DeprecationWarning)\n"
     ]
    }
   ],
   "source": [
    "from sklearn.tree import export_graphviz\n",
    "import graphviz\n",
    "export_graphviz(clf1,feature_names = X.columns,impurity=False,filled=True)"
   ]
  },
  {
   "cell_type": "code",
   "execution_count": 192,
   "metadata": {},
   "outputs": [
    {
     "data": {
      "image/svg+xml": [
       "<?xml version=\"1.0\" encoding=\"UTF-8\" standalone=\"no\"?>\n",
       "<!DOCTYPE svg PUBLIC \"-//W3C//DTD SVG 1.1//EN\"\n",
       " \"http://www.w3.org/Graphics/SVG/1.1/DTD/svg11.dtd\">\n",
       "<!-- Generated by graphviz version 2.38.0 (20140413.2041)\n",
       " -->\n",
       "<!-- Title: Tree Pages: 1 -->\n",
       "<svg width=\"775pt\" height=\"580pt\"\n",
       " viewBox=\"0.00 0.00 775.00 580.00\" xmlns=\"http://www.w3.org/2000/svg\" xmlns:xlink=\"http://www.w3.org/1999/xlink\">\n",
       "<g id=\"graph0\" class=\"graph\" transform=\"scale(1 1) rotate(0) translate(4 576)\">\n",
       "<title>Tree</title>\n",
       "<polygon fill=\"white\" stroke=\"none\" points=\"-4,4 -4,-576 771,-576 771,4 -4,4\"/>\n",
       "<!-- 0 -->\n",
       "<g id=\"node1\" class=\"node\"><title>0</title>\n",
       "<polygon fill=\"#399de5\" fill-opacity=\"0.509804\" stroke=\"black\" points=\"309.5,-572 170.5,-572 170.5,-519 309.5,-519 309.5,-572\"/>\n",
       "<text text-anchor=\"middle\" x=\"240\" y=\"-556.8\" font-family=\"Times,serif\" font-size=\"14.00\">Credit_History &lt;= 0.5</text>\n",
       "<text text-anchor=\"middle\" x=\"240\" y=\"-541.8\" font-family=\"Times,serif\" font-size=\"14.00\">samples = 429</text>\n",
       "<text text-anchor=\"middle\" x=\"240\" y=\"-526.8\" font-family=\"Times,serif\" font-size=\"14.00\">value = [141, 288]</text>\n",
       "</g>\n",
       "<!-- 1 -->\n",
       "<g id=\"node2\" class=\"node\"><title>1</title>\n",
       "<polygon fill=\"#e58139\" fill-opacity=\"0.917647\" stroke=\"black\" points=\"224,-483 80,-483 80,-430 224,-430 224,-483\"/>\n",
       "<text text-anchor=\"middle\" x=\"152\" y=\"-467.8\" font-family=\"Times,serif\" font-size=\"14.00\">LoanAmount &lt;= 547.5</text>\n",
       "<text text-anchor=\"middle\" x=\"152\" y=\"-452.8\" font-family=\"Times,serif\" font-size=\"14.00\">samples = 66</text>\n",
       "<text text-anchor=\"middle\" x=\"152\" y=\"-437.8\" font-family=\"Times,serif\" font-size=\"14.00\">value = [61, 5]</text>\n",
       "</g>\n",
       "<!-- 0&#45;&gt;1 -->\n",
       "<g id=\"edge1\" class=\"edge\"><title>0&#45;&gt;1</title>\n",
       "<path fill=\"none\" stroke=\"black\" d=\"M214.073,-518.868C205.023,-509.921 194.739,-499.753 185.181,-490.304\"/>\n",
       "<polygon fill=\"black\" stroke=\"black\" points=\"187.618,-487.791 178.046,-483.25 182.696,-492.769 187.618,-487.791\"/>\n",
       "<text text-anchor=\"middle\" x=\"178.189\" y=\"-504.549\" font-family=\"Times,serif\" font-size=\"14.00\">True</text>\n",
       "</g>\n",
       "<!-- 2 -->\n",
       "<g id=\"node5\" class=\"node\"><title>2</title>\n",
       "<polygon fill=\"#399de5\" fill-opacity=\"0.717647\" stroke=\"black\" points=\"415.5,-483 242.5,-483 242.5,-430 415.5,-430 415.5,-483\"/>\n",
       "<text text-anchor=\"middle\" x=\"329\" y=\"-467.8\" font-family=\"Times,serif\" font-size=\"14.00\">ApplicantIncome &lt;= 1679.5</text>\n",
       "<text text-anchor=\"middle\" x=\"329\" y=\"-452.8\" font-family=\"Times,serif\" font-size=\"14.00\">samples = 363</text>\n",
       "<text text-anchor=\"middle\" x=\"329\" y=\"-437.8\" font-family=\"Times,serif\" font-size=\"14.00\">value = [80, 283]</text>\n",
       "</g>\n",
       "<!-- 0&#45;&gt;2 -->\n",
       "<g id=\"edge4\" class=\"edge\"><title>0&#45;&gt;2</title>\n",
       "<path fill=\"none\" stroke=\"black\" d=\"M266.222,-518.868C275.374,-509.921 285.775,-499.753 295.442,-490.304\"/>\n",
       "<polygon fill=\"black\" stroke=\"black\" points=\"297.954,-492.743 302.658,-483.25 293.061,-487.737 297.954,-492.743\"/>\n",
       "<text text-anchor=\"middle\" x=\"302.374\" y=\"-504.548\" font-family=\"Times,serif\" font-size=\"14.00\">False</text>\n",
       "</g>\n",
       "<!-- 13 -->\n",
       "<g id=\"node3\" class=\"node\"><title>13</title>\n",
       "<polygon fill=\"#e58139\" fill-opacity=\"0.933333\" stroke=\"black\" points=\"98,-386.5 7.10543e-15,-386.5 7.10543e-15,-348.5 98,-348.5 98,-386.5\"/>\n",
       "<text text-anchor=\"middle\" x=\"49\" y=\"-371.3\" font-family=\"Times,serif\" font-size=\"14.00\">samples = 65</text>\n",
       "<text text-anchor=\"middle\" x=\"49\" y=\"-356.3\" font-family=\"Times,serif\" font-size=\"14.00\">value = [61, 4]</text>\n",
       "</g>\n",
       "<!-- 1&#45;&gt;13 -->\n",
       "<g id=\"edge2\" class=\"edge\"><title>1&#45;&gt;13</title>\n",
       "<path fill=\"none\" stroke=\"black\" d=\"M121.654,-429.868C107.863,-418.22 91.624,-404.503 77.9996,-392.995\"/>\n",
       "<polygon fill=\"black\" stroke=\"black\" points=\"80.2162,-390.286 70.3182,-386.507 75.6993,-395.633 80.2162,-390.286\"/>\n",
       "</g>\n",
       "<!-- 14 -->\n",
       "<g id=\"node4\" class=\"node\"><title>14</title>\n",
       "<polygon fill=\"#399de5\" stroke=\"black\" points=\"208,-386.5 116,-386.5 116,-348.5 208,-348.5 208,-386.5\"/>\n",
       "<text text-anchor=\"middle\" x=\"162\" y=\"-371.3\" font-family=\"Times,serif\" font-size=\"14.00\">samples = 1</text>\n",
       "<text text-anchor=\"middle\" x=\"162\" y=\"-356.3\" font-family=\"Times,serif\" font-size=\"14.00\">value = [0, 1]</text>\n",
       "</g>\n",
       "<!-- 1&#45;&gt;14 -->\n",
       "<g id=\"edge3\" class=\"edge\"><title>1&#45;&gt;14</title>\n",
       "<path fill=\"none\" stroke=\"black\" d=\"M154.946,-429.868C156.147,-419.417 157.54,-407.301 158.769,-396.609\"/>\n",
       "<polygon fill=\"black\" stroke=\"black\" points=\"162.265,-396.841 159.93,-386.507 155.311,-396.042 162.265,-396.841\"/>\n",
       "</g>\n",
       "<!-- 3 -->\n",
       "<g id=\"node6\" class=\"node\"><title>3</title>\n",
       "<polygon fill=\"#e58139\" fill-opacity=\"0.333333\" stroke=\"black\" points=\"391.5,-394 246.5,-394 246.5,-341 391.5,-341 391.5,-394\"/>\n",
       "<text text-anchor=\"middle\" x=\"319\" y=\"-378.8\" font-family=\"Times,serif\" font-size=\"14.00\">Property_Urban &lt;= 0.5</text>\n",
       "<text text-anchor=\"middle\" x=\"319\" y=\"-363.8\" font-family=\"Times,serif\" font-size=\"14.00\">samples = 10</text>\n",
       "<text text-anchor=\"middle\" x=\"319\" y=\"-348.8\" font-family=\"Times,serif\" font-size=\"14.00\">value = [6, 4]</text>\n",
       "</g>\n",
       "<!-- 2&#45;&gt;3 -->\n",
       "<g id=\"edge5\" class=\"edge\"><title>2&#45;&gt;3</title>\n",
       "<path fill=\"none\" stroke=\"black\" d=\"M326.054,-429.868C325.136,-421.886 324.107,-412.932 323.125,-404.384\"/>\n",
       "<polygon fill=\"black\" stroke=\"black\" points=\"326.579,-403.785 321.96,-394.25 319.625,-404.584 326.579,-403.785\"/>\n",
       "</g>\n",
       "<!-- 4 -->\n",
       "<g id=\"node11\" class=\"node\"><title>4</title>\n",
       "<polygon fill=\"#399de5\" fill-opacity=\"0.733333\" stroke=\"black\" points=\"590.5,-394 409.5,-394 409.5,-341 590.5,-341 590.5,-394\"/>\n",
       "<text text-anchor=\"middle\" x=\"500\" y=\"-378.8\" font-family=\"Times,serif\" font-size=\"14.00\">Loan_Amount_Term &lt;= 48.0</text>\n",
       "<text text-anchor=\"middle\" x=\"500\" y=\"-363.8\" font-family=\"Times,serif\" font-size=\"14.00\">samples = 353</text>\n",
       "<text text-anchor=\"middle\" x=\"500\" y=\"-348.8\" font-family=\"Times,serif\" font-size=\"14.00\">value = [74, 279]</text>\n",
       "</g>\n",
       "<!-- 2&#45;&gt;4 -->\n",
       "<g id=\"edge10\" class=\"edge\"><title>2&#45;&gt;4</title>\n",
       "<path fill=\"none\" stroke=\"black\" d=\"M379.381,-429.868C398.603,-420.088 420.692,-408.85 440.671,-398.685\"/>\n",
       "<polygon fill=\"black\" stroke=\"black\" points=\"442.358,-401.753 449.684,-394.099 439.184,-395.514 442.358,-401.753\"/>\n",
       "</g>\n",
       "<!-- 15 -->\n",
       "<g id=\"node7\" class=\"node\"><title>15</title>\n",
       "<polygon fill=\"#399de5\" fill-opacity=\"0.666667\" stroke=\"black\" points=\"244,-297.5 152,-297.5 152,-259.5 244,-259.5 244,-297.5\"/>\n",
       "<text text-anchor=\"middle\" x=\"198\" y=\"-282.3\" font-family=\"Times,serif\" font-size=\"14.00\">samples = 4</text>\n",
       "<text text-anchor=\"middle\" x=\"198\" y=\"-267.3\" font-family=\"Times,serif\" font-size=\"14.00\">value = [1, 3]</text>\n",
       "</g>\n",
       "<!-- 3&#45;&gt;15 -->\n",
       "<g id=\"edge6\" class=\"edge\"><title>3&#45;&gt;15</title>\n",
       "<path fill=\"none\" stroke=\"black\" d=\"M283.35,-340.868C266.847,-329.002 247.359,-314.989 231.173,-303.352\"/>\n",
       "<polygon fill=\"black\" stroke=\"black\" points=\"233.206,-300.503 223.044,-297.507 229.12,-306.186 233.206,-300.503\"/>\n",
       "</g>\n",
       "<!-- 16 -->\n",
       "<g id=\"node8\" class=\"node\"><title>16</title>\n",
       "<polygon fill=\"#e58139\" fill-opacity=\"0.800000\" stroke=\"black\" points=\"399.5,-305 262.5,-305 262.5,-252 399.5,-252 399.5,-305\"/>\n",
       "<text text-anchor=\"middle\" x=\"331\" y=\"-289.8\" font-family=\"Times,serif\" font-size=\"14.00\">LoanAmount &lt;= 32.5</text>\n",
       "<text text-anchor=\"middle\" x=\"331\" y=\"-274.8\" font-family=\"Times,serif\" font-size=\"14.00\">samples = 6</text>\n",
       "<text text-anchor=\"middle\" x=\"331\" y=\"-259.8\" font-family=\"Times,serif\" font-size=\"14.00\">value = [5, 1]</text>\n",
       "</g>\n",
       "<!-- 3&#45;&gt;16 -->\n",
       "<g id=\"edge7\" class=\"edge\"><title>3&#45;&gt;16</title>\n",
       "<path fill=\"none\" stroke=\"black\" d=\"M322.535,-340.868C323.636,-332.886 324.871,-323.932 326.051,-315.384\"/>\n",
       "<polygon fill=\"black\" stroke=\"black\" points=\"329.549,-315.634 327.448,-305.25 322.615,-314.678 329.549,-315.634\"/>\n",
       "</g>\n",
       "<!-- 17 -->\n",
       "<g id=\"node9\" class=\"node\"><title>17</title>\n",
       "<polygon fill=\"#399de5\" stroke=\"black\" points=\"300,-208.5 208,-208.5 208,-170.5 300,-170.5 300,-208.5\"/>\n",
       "<text text-anchor=\"middle\" x=\"254\" y=\"-193.3\" font-family=\"Times,serif\" font-size=\"14.00\">samples = 1</text>\n",
       "<text text-anchor=\"middle\" x=\"254\" y=\"-178.3\" font-family=\"Times,serif\" font-size=\"14.00\">value = [0, 1]</text>\n",
       "</g>\n",
       "<!-- 16&#45;&gt;17 -->\n",
       "<g id=\"edge8\" class=\"edge\"><title>16&#45;&gt;17</title>\n",
       "<path fill=\"none\" stroke=\"black\" d=\"M308.314,-251.868C298.39,-240.655 286.77,-227.525 276.83,-216.294\"/>\n",
       "<polygon fill=\"black\" stroke=\"black\" points=\"279.185,-213.675 269.937,-208.507 273.944,-218.315 279.185,-213.675\"/>\n",
       "</g>\n",
       "<!-- 18 -->\n",
       "<g id=\"node10\" class=\"node\"><title>18</title>\n",
       "<polygon fill=\"#e58139\" stroke=\"black\" points=\"410,-208.5 318,-208.5 318,-170.5 410,-170.5 410,-208.5\"/>\n",
       "<text text-anchor=\"middle\" x=\"364\" y=\"-193.3\" font-family=\"Times,serif\" font-size=\"14.00\">samples = 5</text>\n",
       "<text text-anchor=\"middle\" x=\"364\" y=\"-178.3\" font-family=\"Times,serif\" font-size=\"14.00\">value = [5, 0]</text>\n",
       "</g>\n",
       "<!-- 16&#45;&gt;18 -->\n",
       "<g id=\"edge9\" class=\"edge\"><title>16&#45;&gt;18</title>\n",
       "<path fill=\"none\" stroke=\"black\" d=\"M340.723,-251.868C344.769,-241.199 349.474,-228.796 353.591,-217.943\"/>\n",
       "<polygon fill=\"black\" stroke=\"black\" points=\"356.896,-219.098 357.17,-208.507 350.351,-216.615 356.896,-219.098\"/>\n",
       "</g>\n",
       "<!-- 5 -->\n",
       "<g id=\"node12\" class=\"node\"><title>5</title>\n",
       "<polygon fill=\"#e58139\" stroke=\"black\" points=\"534,-297.5 442,-297.5 442,-259.5 534,-259.5 534,-297.5\"/>\n",
       "<text text-anchor=\"middle\" x=\"488\" y=\"-282.3\" font-family=\"Times,serif\" font-size=\"14.00\">samples = 2</text>\n",
       "<text text-anchor=\"middle\" x=\"488\" y=\"-267.3\" font-family=\"Times,serif\" font-size=\"14.00\">value = [2, 0]</text>\n",
       "</g>\n",
       "<!-- 4&#45;&gt;5 -->\n",
       "<g id=\"edge11\" class=\"edge\"><title>4&#45;&gt;5</title>\n",
       "<path fill=\"none\" stroke=\"black\" d=\"M496.465,-340.868C495.023,-330.417 493.352,-318.301 491.877,-307.609\"/>\n",
       "<polygon fill=\"black\" stroke=\"black\" points=\"495.317,-306.935 490.484,-297.507 488.383,-307.891 495.317,-306.935\"/>\n",
       "</g>\n",
       "<!-- 6 -->\n",
       "<g id=\"node13\" class=\"node\"><title>6</title>\n",
       "<polygon fill=\"#399de5\" fill-opacity=\"0.741176\" stroke=\"black\" points=\"696,-305 552,-305 552,-252 696,-252 696,-305\"/>\n",
       "<text text-anchor=\"middle\" x=\"624\" y=\"-289.8\" font-family=\"Times,serif\" font-size=\"14.00\">LoanAmount &lt;= 132.5</text>\n",
       "<text text-anchor=\"middle\" x=\"624\" y=\"-274.8\" font-family=\"Times,serif\" font-size=\"14.00\">samples = 351</text>\n",
       "<text text-anchor=\"middle\" x=\"624\" y=\"-259.8\" font-family=\"Times,serif\" font-size=\"14.00\">value = [72, 279]</text>\n",
       "</g>\n",
       "<!-- 4&#45;&gt;6 -->\n",
       "<g id=\"edge12\" class=\"edge\"><title>4&#45;&gt;6</title>\n",
       "<path fill=\"none\" stroke=\"black\" d=\"M536.533,-340.868C549.785,-331.57 564.916,-320.954 578.825,-311.196\"/>\n",
       "<polygon fill=\"black\" stroke=\"black\" points=\"581.123,-313.858 587.299,-305.25 577.103,-308.128 581.123,-313.858\"/>\n",
       "</g>\n",
       "<!-- 7 -->\n",
       "<g id=\"node14\" class=\"node\"><title>7</title>\n",
       "<polygon fill=\"#399de5\" fill-opacity=\"0.823529\" stroke=\"black\" points=\"636.5,-216 495.5,-216 495.5,-163 636.5,-163 636.5,-216\"/>\n",
       "<text text-anchor=\"middle\" x=\"566\" y=\"-200.8\" font-family=\"Times,serif\" font-size=\"14.00\">Property_Rural &lt;= 0.5</text>\n",
       "<text text-anchor=\"middle\" x=\"566\" y=\"-185.8\" font-family=\"Times,serif\" font-size=\"14.00\">samples = 186</text>\n",
       "<text text-anchor=\"middle\" x=\"566\" y=\"-170.8\" font-family=\"Times,serif\" font-size=\"14.00\">value = [28, 158]</text>\n",
       "</g>\n",
       "<!-- 6&#45;&gt;7 -->\n",
       "<g id=\"edge13\" class=\"edge\"><title>6&#45;&gt;7</title>\n",
       "<path fill=\"none\" stroke=\"black\" d=\"M606.912,-251.868C601.24,-243.359 594.831,-233.747 588.799,-224.698\"/>\n",
       "<polygon fill=\"black\" stroke=\"black\" points=\"591.626,-222.629 583.166,-216.25 585.801,-226.512 591.626,-222.629\"/>\n",
       "</g>\n",
       "<!-- 8 -->\n",
       "<g id=\"node19\" class=\"node\"><title>8</title>\n",
       "<polygon fill=\"#399de5\" fill-opacity=\"0.635294\" stroke=\"black\" points=\"767,-208.5 655,-208.5 655,-170.5 767,-170.5 767,-208.5\"/>\n",
       "<text text-anchor=\"middle\" x=\"711\" y=\"-193.3\" font-family=\"Times,serif\" font-size=\"14.00\">samples = 165</text>\n",
       "<text text-anchor=\"middle\" x=\"711\" y=\"-178.3\" font-family=\"Times,serif\" font-size=\"14.00\">value = [44, 121]</text>\n",
       "</g>\n",
       "<!-- 6&#45;&gt;8 -->\n",
       "<g id=\"edge18\" class=\"edge\"><title>6&#45;&gt;8</title>\n",
       "<path fill=\"none\" stroke=\"black\" d=\"M649.632,-251.868C661.063,-240.437 674.485,-227.015 685.858,-215.642\"/>\n",
       "<polygon fill=\"black\" stroke=\"black\" points=\"688.397,-218.053 692.993,-208.507 683.447,-213.103 688.397,-218.053\"/>\n",
       "</g>\n",
       "<!-- 9 -->\n",
       "<g id=\"node15\" class=\"node\"><title>9</title>\n",
       "<polygon fill=\"#399de5\" fill-opacity=\"0.890196\" stroke=\"black\" points=\"538,-119.5 426,-119.5 426,-81.5 538,-81.5 538,-119.5\"/>\n",
       "<text text-anchor=\"middle\" x=\"482\" y=\"-104.3\" font-family=\"Times,serif\" font-size=\"14.00\">samples = 140</text>\n",
       "<text text-anchor=\"middle\" x=\"482\" y=\"-89.3\" font-family=\"Times,serif\" font-size=\"14.00\">value = [14, 126]</text>\n",
       "</g>\n",
       "<!-- 7&#45;&gt;9 -->\n",
       "<g id=\"edge14\" class=\"edge\"><title>7&#45;&gt;9</title>\n",
       "<path fill=\"none\" stroke=\"black\" d=\"M541.252,-162.868C530.32,-151.546 517.502,-138.27 506.59,-126.968\"/>\n",
       "<polygon fill=\"black\" stroke=\"black\" points=\"508.85,-124.27 499.386,-119.507 503.814,-129.132 508.85,-124.27\"/>\n",
       "</g>\n",
       "<!-- 10 -->\n",
       "<g id=\"node16\" class=\"node\"><title>10</title>\n",
       "<polygon fill=\"#399de5\" fill-opacity=\"0.560784\" stroke=\"black\" points=\"741.5,-127 556.5,-127 556.5,-74 741.5,-74 741.5,-127\"/>\n",
       "<text text-anchor=\"middle\" x=\"649\" y=\"-111.8\" font-family=\"Times,serif\" font-size=\"14.00\">CoapplicantIncome &lt;= 1524.5</text>\n",
       "<text text-anchor=\"middle\" x=\"649\" y=\"-96.8\" font-family=\"Times,serif\" font-size=\"14.00\">samples = 46</text>\n",
       "<text text-anchor=\"middle\" x=\"649\" y=\"-81.8\" font-family=\"Times,serif\" font-size=\"14.00\">value = [14, 32]</text>\n",
       "</g>\n",
       "<!-- 7&#45;&gt;10 -->\n",
       "<g id=\"edge15\" class=\"edge\"><title>7&#45;&gt;10</title>\n",
       "<path fill=\"none\" stroke=\"black\" d=\"M590.454,-162.868C598.906,-154.008 608.499,-143.953 617.439,-134.582\"/>\n",
       "<polygon fill=\"black\" stroke=\"black\" points=\"620.064,-136.901 624.434,-127.25 614.999,-132.069 620.064,-136.901\"/>\n",
       "</g>\n",
       "<!-- 11 -->\n",
       "<g id=\"node17\" class=\"node\"><title>11</title>\n",
       "<polygon fill=\"#399de5\" fill-opacity=\"0.188235\" stroke=\"black\" points=\"641.5,-38 536.5,-38 536.5,-0 641.5,-0 641.5,-38\"/>\n",
       "<text text-anchor=\"middle\" x=\"589\" y=\"-22.8\" font-family=\"Times,serif\" font-size=\"14.00\">samples = 29</text>\n",
       "<text text-anchor=\"middle\" x=\"589\" y=\"-7.8\" font-family=\"Times,serif\" font-size=\"14.00\">value = [13, 16]</text>\n",
       "</g>\n",
       "<!-- 10&#45;&gt;11 -->\n",
       "<g id=\"edge16\" class=\"edge\"><title>10&#45;&gt;11</title>\n",
       "<path fill=\"none\" stroke=\"black\" d=\"M629.685,-73.9081C623.039,-65.1022 615.589,-55.2299 608.897,-46.3636\"/>\n",
       "<polygon fill=\"black\" stroke=\"black\" points=\"611.583,-44.1124 602.765,-38.2389 605.996,-48.3293 611.583,-44.1124\"/>\n",
       "</g>\n",
       "<!-- 12 -->\n",
       "<g id=\"node18\" class=\"node\"><title>12</title>\n",
       "<polygon fill=\"#399de5\" fill-opacity=\"0.937255\" stroke=\"black\" points=\"758,-38 660,-38 660,-0 758,-0 758,-38\"/>\n",
       "<text text-anchor=\"middle\" x=\"709\" y=\"-22.8\" font-family=\"Times,serif\" font-size=\"14.00\">samples = 17</text>\n",
       "<text text-anchor=\"middle\" x=\"709\" y=\"-7.8\" font-family=\"Times,serif\" font-size=\"14.00\">value = [1, 16]</text>\n",
       "</g>\n",
       "<!-- 10&#45;&gt;12 -->\n",
       "<g id=\"edge17\" class=\"edge\"><title>10&#45;&gt;12</title>\n",
       "<path fill=\"none\" stroke=\"black\" d=\"M668.315,-73.9081C674.961,-65.1022 682.411,-55.2299 689.103,-46.3636\"/>\n",
       "<polygon fill=\"black\" stroke=\"black\" points=\"692.004,-48.3293 695.235,-38.2389 686.417,-44.1124 692.004,-48.3293\"/>\n",
       "</g>\n",
       "</g>\n",
       "</svg>\n"
      ],
      "text/plain": [
       "<graphviz.files.Source at 0x7fef2e6a0240>"
      ]
     },
     "execution_count": 192,
     "metadata": {},
     "output_type": "execute_result"
    }
   ],
   "source": [
    "with open('tree.dot') as f:\n",
    "    dot_graph = f.read()\n",
    "graphviz.Source(dot_graph)"
   ]
  },
  {
   "cell_type": "code",
   "execution_count": 193,
   "metadata": {},
   "outputs": [
    {
     "name": "stdout",
     "output_type": "stream",
     "text": [
      "Training Accuracy = 0.8251748251748252\n",
      "Testing Accuracy = 0.8216216216216217\n"
     ]
    }
   ],
   "source": [
    "ran_for = RandomForestClassifier(n_estimators=10,max_depth=5)\n",
    "ran_for.fit(X_train,y_train)\n",
    "print(\"Training Accuracy = {}\".format(ran_for.score(X_train,y_train)))\n",
    "print('Testing Accuracy = {}'.format(ran_for.score(X_test,y_test)))"
   ]
  },
  {
   "cell_type": "code",
   "execution_count": 222,
   "metadata": {},
   "outputs": [
    {
     "name": "stdout",
     "output_type": "stream",
     "text": [
      "Training Accuracy = 0.8391608391608392\n",
      "Testing Accuracy = 0.8054054054054054\n"
     ]
    }
   ],
   "source": [
    "gra_boo = GradientBoostingClassifier(n_estimators=10,max_depth=5)\n",
    "gra_boo.fit(X_train,y_train)\n",
    "print(\"Training Accuracy = {}\".format(gra_boo.score(X_train,y_train)))\n",
    "print('Testing Accuracy = {}'.format(gra_boo.score(X_test,y_test)))"
   ]
  },
  {
   "cell_type": "code",
   "execution_count": 226,
   "metadata": {},
   "outputs": [],
   "source": [
    "pred = pd.DataFrame({'Loan_Status':gra_boo.predict(test)})"
   ]
  },
  {
   "cell_type": "code",
   "execution_count": 270,
   "metadata": {},
   "outputs": [],
   "source": [
    "answer = pd.concat([t,pred],axis=1)"
   ]
  },
  {
   "cell_type": "code",
   "execution_count": 229,
   "metadata": {},
   "outputs": [
    {
     "name": "stderr",
     "output_type": "stream",
     "text": [
      "/home/arpit/virtual_env_/allenv3/lib/python3.5/site-packages/ipykernel_launcher.py:1: SettingWithCopyWarning: \n",
      "A value is trying to be set on a copy of a slice from a DataFrame\n",
      "\n",
      "See the caveats in the documentation: http://pandas.pydata.org/pandas-docs/stable/indexing.html#indexing-view-versus-copy\n",
      "  \"\"\"Entry point for launching an IPython kernel.\n"
     ]
    }
   ],
   "source": [
    "answer['Loan_Status'][answer.Loan_Status==1]='Y'\n",
    "answer['Loan_Status'][answer.Loan_Status==0]='N'"
   ]
  },
  {
   "cell_type": "code",
   "execution_count": 230,
   "metadata": {},
   "outputs": [],
   "source": [
    "answer.to_csv('solution.csv',index=False)"
   ]
  },
  {
   "cell_type": "code",
   "execution_count": 268,
   "metadata": {},
   "outputs": [
    {
     "data": {
      "text/plain": [
       "LogisticRegression(C=1.0, class_weight=None, dual=False, fit_intercept=True,\n",
       "          intercept_scaling=1, max_iter=100, multi_class='ovr', n_jobs=-1,\n",
       "          penalty='l2', random_state=None, solver='liblinear', tol=0.0001,\n",
       "          verbose=0, warm_start=False)"
      ]
     },
     "execution_count": 268,
     "metadata": {},
     "output_type": "execute_result"
    }
   ],
   "source": [
    "from sklearn.linear_model import LogisticRegression\n",
    "clf = LogisticRegression(n_jobs=-1,penalty='l2')\n",
    "clf.fit(X_train,y_train)"
   ]
  },
  {
   "cell_type": "code",
   "execution_count": 269,
   "metadata": {},
   "outputs": [
    {
     "name": "stdout",
     "output_type": "stream",
     "text": [
      "Training Accuracy = 0.8065268065268065\n",
      "Testing Accuracy = 0.8324324324324325\n"
     ]
    }
   ],
   "source": [
    "print(\"Training Accuracy = {}\".format(clf.score(X_train,y_train)))\n",
    "print('Testing Accuracy = {}'.format(clf.score(X_test,y_test)))"
   ]
  },
  {
   "cell_type": "code",
   "execution_count": 271,
   "metadata": {},
   "outputs": [
    {
     "name": "stderr",
     "output_type": "stream",
     "text": [
      "/home/arpit/virtual_env_/allenv3/lib/python3.5/site-packages/ipykernel_launcher.py:3: SettingWithCopyWarning: \n",
      "A value is trying to be set on a copy of a slice from a DataFrame\n",
      "\n",
      "See the caveats in the documentation: http://pandas.pydata.org/pandas-docs/stable/indexing.html#indexing-view-versus-copy\n",
      "  This is separate from the ipykernel package so we can avoid doing imports until\n"
     ]
    }
   ],
   "source": [
    "pred = pd.DataFrame({'Loan_Status':clf.predict(test)})\n",
    "answer = pd.concat([t,pred],axis=1)\n",
    "answer['Loan_Status'][answer.Loan_Status==1]='Y'\n",
    "answer['Loan_Status'][answer.Loan_Status==0]='N'\n",
    "answer.to_csv('solution_log_reg.csv',index=False)"
   ]
  },
  {
   "cell_type": "code",
   "execution_count": null,
   "metadata": {
    "collapsed": true
   },
   "outputs": [],
   "source": []
  }
 ],
 "metadata": {
  "kernelspec": {
   "display_name": "Python 3",
   "language": "python",
   "name": "python3"
  },
  "language_info": {
   "codemirror_mode": {
    "name": "ipython",
    "version": 3
   },
   "file_extension": ".py",
   "mimetype": "text/x-python",
   "name": "python",
   "nbconvert_exporter": "python",
   "pygments_lexer": "ipython3",
   "version": "3.5.3"
  }
 },
 "nbformat": 4,
 "nbformat_minor": 2
}
